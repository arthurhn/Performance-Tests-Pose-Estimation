{
 "cells": [
  {
   "cell_type": "markdown",
   "metadata": {},
   "source": [
    "## Import and load models"
   ]
  },
  {
   "cell_type": "code",
   "execution_count": null,
   "metadata": {},
   "outputs": [],
   "source": [
    "#pip install TensorRT"
   ]
  },
  {
   "cell_type": "code",
   "execution_count": 4,
   "metadata": {},
   "outputs": [],
   "source": [
    "import cv2\n",
    "import mediapipe as mp\n",
    "import psutil\n",
    "\n",
    "mp_drawing = mp.solutions.drawing_utils\n",
    "mp_drawing_styles = mp.solutions.drawing_styles\n",
    "mp_pose = mp.solutions.pose"
   ]
  },
  {
   "cell_type": "markdown",
   "metadata": {},
   "source": [
    "## Upload video"
   ]
  },
  {
   "cell_type": "code",
   "execution_count": 5,
   "metadata": {},
   "outputs": [
    {
     "name": "stderr",
     "output_type": "stream",
     "text": [
      "WARNING: All log messages before absl::InitializeLog() is called are written to STDERR\n",
      "I0000 00:00:1717677592.496671    5736 gl_context_egl.cc:85] Successfully initialized EGL. Major : 1 Minor: 5\n",
      "I0000 00:00:1717677592.527145    6496 gl_context.cc:357] GL version: 3.2 (OpenGL ES 3.2 NVIDIA 535.171.04), renderer: NVIDIA GeForce RTX 3070/PCIe/SSE2\n",
      "INFO: Created TensorFlow Lite XNNPACK delegate for CPU.\n"
     ]
    },
    {
     "name": "stdout",
     "output_type": "stream",
     "text": [
      "no video input\n"
     ]
    }
   ],
   "source": [
    "cap = cv2.VideoCapture('pushupseries.mp4')\n",
    "\n",
    "# Video info\n",
    "fps = int(cap.get(cv2.CAP_PROP_FPS))\n",
    "width = int(cap.get(cv2.CAP_PROP_FRAME_WIDTH))\n",
    "height = int(cap.get(cv2.CAP_PROP_FRAME_HEIGHT))\n",
    "\n",
    "# Save video output\n",
    "fourcc = cv2.VideoWriter_fourcc(*'mp4v')\n",
    "out = cv2.VideoWriter('mp_output_video.mp4', fourcc, fps, (width, height))\n",
    "\n",
    "#cpu and mem times start\n",
    "cpu_start = psutil.cpu_percent(interval=None)\n",
    "memory_start = psutil.virtual_memory().used\n",
    "\n",
    "with mp_pose.Pose(min_detection_confidence=0.5, min_tracking_confidence=0.5) as pose:\n",
    "    while(cap.isOpened()):\n",
    "        success, frame = cap.read()\n",
    "        # cv2.imshow('frame',frame)\n",
    "        if not success:\n",
    "            print( \"no video input\")\n",
    "            break\n",
    "\n",
    "        #Drawing keypoints\n",
    "        frame.flags.writeable = False\n",
    "        frame = cv2.cvtColor(frame,cv2.COLOR_BGR2RGB)\n",
    "        results = pose.process(frame)\n",
    "    \n",
    "        frame.flags.writeable = True\n",
    "        frame = cv2.cvtColor(frame,cv2.COLOR_RGB2BGR)\n",
    "    \n",
    "        #Inference on video\n",
    "        mp_drawing.draw_landmarks(frame, results.pose_landmarks, mp_pose.POSE_CONNECTIONS,\n",
    "                                  landmark_drawing_spec=mp_drawing_styles.get_default_pose_landmarks_style() )\n",
    "\n",
    "        out.write(frame)\n",
    "        \n",
    "        cv2.imshow('Mediapipe demo', cv2.flip(frame, 1) )\n",
    "    \n",
    "        if cv2.waitKey(5) &0xFF == 27:\n",
    "            break\n",
    "\n",
    "#cpu and mem times end\n",
    "cpu_end = psutil.cpu_percent(interval=None)\n",
    "memory_end = psutil.virtual_memory().used\n",
    "\n",
    "\n",
    "cpu_usage = cpu_end - cpu_start\n",
    "memory_usage = memory_end - memory_start\n",
    "\n",
    "cap.release()\n",
    "out.release()\n",
    "cv2.destroyAllWindows()"
   ]
  },
  {
   "cell_type": "code",
   "execution_count": 6,
   "metadata": {},
   "outputs": [
    {
     "name": "stdout",
     "output_type": "stream",
     "text": [
      "CPU Usage: 10.5%\n",
      "Memory Usage: 86.7578125 MB\n"
     ]
    }
   ],
   "source": [
    "# Resource usage results\n",
    "print(f\"CPU Usage: {cpu_usage}%\")\n",
    "print(f\"Memory Usage: {memory_usage / (1024 ** 2)} MB\")"
   ]
  },
  {
   "cell_type": "code",
   "execution_count": null,
   "metadata": {},
   "outputs": [],
   "source": []
  }
 ],
 "metadata": {
  "kernelspec": {
   "display_name": "Python 3",
   "language": "python",
   "name": "python3"
  },
  "language_info": {
   "codemirror_mode": {
    "name": "ipython",
    "version": 3
   },
   "file_extension": ".py",
   "mimetype": "text/x-python",
   "name": "python",
   "nbconvert_exporter": "python",
   "pygments_lexer": "ipython3",
   "version": "3.8.3"
  }
 },
 "nbformat": 4,
 "nbformat_minor": 5
}
